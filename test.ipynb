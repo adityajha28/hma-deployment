{
 "cells": [
  {
   "cell_type": "code",
   "execution_count": 7,
   "metadata": {},
   "outputs": [],
   "source": [
    "from dotenv import load_dotenv\n",
    "import os\n",
    "load_dotenv()\n",
    "GOOGLE_API_KEY = os.getenv(\"GOOGLE_API_KEY\")\n",
    "TRAVILY_API_KEY = os.getenv(\"TRAVILY_API_KEY\")"
   ]
  },
  {
   "cell_type": "code",
   "execution_count": 10,
   "metadata": {},
   "outputs": [],
   "source": [
    "from langchain.text_splitter import RecursiveCharacterTextSplitter\n",
    "from langchain_community.document_loaders import PyPDFLoader\n",
    "from langchain_community.tools.tavily_search import TavilySearchResults\n",
    "from langchain_community.vectorstores import Chroma\n",
    "from langchain_google_genai import GoogleGenerativeAIEmbeddings\n",
    "from langchain_google_genai import GoogleGenerativeAI"
   ]
  },
  {
   "cell_type": "code",
   "execution_count": 3,
   "metadata": {},
   "outputs": [],
   "source": [
    "llm =  GoogleGenerativeAI(model=\"gemini-pro\", google_api_key=GOOGLE_API_KEY)\n",
    "embeddings = GoogleGenerativeAIEmbeddings(model=\"models/embedding-001\", google_api_key=GOOGLE_API_KEY)"
   ]
  },
  {
   "cell_type": "code",
   "execution_count": 6,
   "metadata": {},
   "outputs": [],
   "source": [
    "loader=PyPDFLoader(\"knowledgebase.pdf\")\n",
    "docs = loader.load_and_split()\n",
    "text_splitter = RecursiveCharacterTextSplitter(chunk_size=1024)\n",
    "documents = text_splitter.split_documents(docs)"
   ]
  },
  {
   "cell_type": "code",
   "execution_count": 8,
   "metadata": {},
   "outputs": [],
   "source": [
    "PERSIST_STORAGE = \"./storage\""
   ]
  },
  {
   "cell_type": "code",
   "execution_count": 12,
   "metadata": {},
   "outputs": [],
   "source": [
    "db = Chroma.from_documents(documents=documents, embedding= embeddings,persist_directory=PERSIST_STORAGE)"
   ]
  },
  {
   "cell_type": "code",
   "execution_count": 10,
   "metadata": {},
   "outputs": [],
   "source": []
  },
  {
   "cell_type": "code",
   "execution_count": 11,
   "metadata": {},
   "outputs": [
    {
     "data": {
      "text/plain": [
       "[Document(page_content='Hotel\\nManagement\\nAI\\nAgent\\nProject\\nTitle:\\nHAAS\\n-\\nHotel\\nAI\\nAssistant\\nSystem\\nObjective:\\nBuild\\nan\\nAI\\nAgent\\nfor\\na\\nHotel\\nManagement\\nSystem\\nthat\\nwill\\nhave\\nthe\\npower\\nto\\nanswer\\nthe\\nqueries\\nof\\nthe\\ncustomers\\nabout\\nthe\\nhotel,\\nroom\\navailability,\\ncontact\\nnumber\\nand\\nthe\\nfacilities\\nprovided\\nby\\nthe\\nhotel.\\nFeatures\\nof\\nAI\\nAgent\\nRoom\\nAvailability\\nCheck:\\n-\\nAllow\\nusers\\nto\\nget\\ninformation\\nabout\\nthe\\nnumber\\nof\\nrooms\\navailable\\nin\\nthe\\nHotel.\\nPrice\\nListing:\\n-\\nAllow\\nusers\\nto\\nknow\\nthe\\nprices\\nof\\nthe\\nhotel\\nrooms\\nof\\ndifferent\\ncategories.\\nGuest\\nServices:\\n-\\nProvide\\ninformation\\nabout\\nhotel\\namenities,\\nnearby\\nattractions.\\n-\\nFacilitate\\nroom\\nservice\\nrequests,\\nhousekeeping,\\nor\\nmaintenance\\nqueries.\\nCheck-in/Check-out:\\n-\\nSupport\\nseamless\\ncheck-in\\nand\\ncheck-out\\nprocesses\\nand\\ntimings\\nFeedback\\nand\\nSupport:\\n-\\nGather\\nfeedback\\nfrom\\nguests\\nand\\nhandle\\nsupport\\ninquiries\\nefficiently.\\nTechstack\\nPython\\n-\\nPython\\nlanguage\\nis\\nsupported\\nby\\nLangchain\\nto\\nbuild\\nthe\\nAgent\\n,\\nFastAPI\\nto\\nbuild\\nthe\\nBackend\\nand\\nChroma\\ndb\\nas\\ndatabase\\n,\\nPython\\nhas\\nbeen\\nchosen.\\nKnowledge\\nBase', metadata={'source': 'knowledgebase.pdf', 'page': 0}),\n",
       " Document(page_content='efficiently.\\nTechstack\\nPython\\n-\\nPython\\nlanguage\\nis\\nsupported\\nby\\nLangchain\\nto\\nbuild\\nthe\\nAgent\\n,\\nFastAPI\\nto\\nbuild\\nthe\\nBackend\\nand\\nChroma\\ndb\\nas\\ndatabase\\n,\\nPython\\nhas\\nbeen\\nchosen.\\nKnowledge\\nBase\\nThe\\nknowledge\\nbase\\nwill\\ncontain\\ninformation\\nin\\na\\nPDF\\nor\\na\\nWord\\nDocument\\nwhich\\nwill\\nbe\\nqueried\\nfor\\ninformation\\nretrieval.\\nThe\\nknowledge\\nbase\\nwill\\ncontain\\ninformation\\nlike\\nroom\\navailability\\ndetails,\\ncheck-in\\nand\\ncheck-out\\ndetails,\\nfacilities\\nprovided\\nby\\nthe\\nhotel,\\nand\\ndifferent\\nservices\\nfor\\nthe\\nguests.\\nAI\\nModels(LLMs)\\nI\\npropose\\nto\\nbuild\\nthe\\napplication\\nusing\\nGoogle\\nGemini\\nLLM\\nmodel\\nas\\nthis\\nmodel\\nis\\nfree\\nto\\nuse.\\nEmbedding\\nModel\\nThe\\nembedding\\nmodel\\nused\\nwill\\nbe\\nBAAI/bge-small-en-v1.5\\nfrom\\nHugging\\nFace\\nEmbedding.', metadata={'source': 'knowledgebase.pdf', 'page': 0}),\n",
       " Document(page_content='Task\\nDivision\\nTask\\n1\\n:\\nBuild\\nthe\\nKnowledge\\nBase\\n-\\nCreate\\na\\nknowledge\\nbase\\nbased\\non\\nthe\\nqueries\\na\\ncustomer\\nhas\\nbefore\\nbooking\\na\\nhotel.\\n-\\nRead\\nthe\\nfile\\nwhere\\nthe\\nknowledge\\nbase\\nis\\nstored\\nas\\nDocument\\ntype\\n-\\nStore\\nthe\\nknowledge\\nbase\\nto\\nthe\\nchroma\\ndb.\\nTime\\nEstimated\\n=\\n4-6\\nhrs\\nTask\\n2\\n:\\nBuild\\nand\\nTest\\nthe\\nAI\\nAgent\\nfor\\nHotel\\nManagement\\nSystem\\n-\\nCreate\\nan\\ninteractive\\npython\\nnotebook\\nfile\\nand\\nbuild\\nthe\\nAI\\nAgent\\nusing\\nthe\\nembedding\\nand\\nLLM\\nmodels.\\n-\\nIntegrate\\nthe\\nknowledge\\nbase\\nwith\\nthe\\nAI\\nAgent\\nso\\nthat\\nit\\ncan\\nquery\\nthe\\nknowledge\\nbase\\nas\\nper\\nthe\\nquestions\\nasked.\\n-\\nTest\\nthe\\ncode\\nwith\\nworst\\ncase\\nscenarios.\\nTime\\nEstimated\\n=\\n16-20\\nhrs\\nTask\\n3\\n:\\nDivide\\nthe\\ncode\\ninto\\nmodules\\n-\\nCreate\\ndifferent\\nfiles\\nand\\nfunctions\\nfor\\nmodular\\nprogramming\\nenabling\\nreusability\\ncapabilities.\\n-\\nImplement\\nException\\nHandling\\nTime\\nEstimated\\n=\\n8-10\\nhrs\\nTask\\n4:\\nImplement\\nFastAPI\\n-\\nDesign\\nthe\\nAPI\\nEndpoint\\nthat\\nshall\\naccept\\nthe\\nquery\\nfrom\\nthe\\nuser\\nand\\nreturn\\na\\nspecified\\noutput\\n-\\nWith\\nthe\\nhelp\\nof\\nFastAPI\\nimplement\\nthe\\nAI\\nAgent\\nto\\ninteract\\nwith\\nthe\\nuser', metadata={'source': 'knowledgebase.pdf', 'page': 1}),\n",
       " Document(page_content='Task\\n4:\\nImplement\\nFastAPI\\n-\\nDesign\\nthe\\nAPI\\nEndpoint\\nthat\\nshall\\naccept\\nthe\\nquery\\nfrom\\nthe\\nuser\\nand\\nreturn\\na\\nspecified\\noutput\\n-\\nWith\\nthe\\nhelp\\nof\\nFastAPI\\nimplement\\nthe\\nAI\\nAgent\\nto\\ninteract\\nwith\\nthe\\nuser\\nusing\\nAPI\\nEndpoints.\\nTime\\nEstimated\\n=\\n4-5\\nhrs\\nTask\\n5:\\nUpdate\\nthe\\nDocumentation\\nand\\nprovide\\ncomments\\nin\\nthe\\ncode\\n-\\nUpdate\\na\\ndetailed\\ndocumentation\\nfor\\nsetting\\nup\\nthe\\nproject\\n-\\nProvide\\ncomments\\nto\\nthe\\ncode\\nto\\ndemonstrate\\nthe\\nlogic\\nand\\nworking\\nTime\\nEstimated\\n=\\n4-5\\nhrs\\nTask\\n6:\\nFix\\nbugs\\nand\\nTest\\nthe\\nproject\\nin\\na\\nfresh\\nenvironment\\n-\\nTest\\nthe\\nproject\\nby\\ncreating\\na\\nfresh\\nenvironment.\\n-\\nDebug\\nthe\\ncode\\nand\\nfix\\nbugs\\nif\\nany.\\nTime\\nEstimated\\n-\\n4-8\\nhrs', metadata={'source': 'knowledgebase.pdf', 'page': 1}),\n",
       " Document(page_content='Time\\nEstimation\\nEstimated\\ntime\\nto\\ncomplete\\nthe\\nProject\\n=\\n50\\nhrs\\n~\\n1\\nweek\\n(Approximately)\\nSystem\\nWorkflow\\nFigure\\n1.\\nAI\\nAgent\\nSystem\\nWorkflow\\nfor\\nHotel\\nManagement', metadata={'source': 'knowledgebase.pdf', 'page': 2})]"
      ]
     },
     "execution_count": 11,
     "metadata": {},
     "output_type": "execute_result"
    }
   ],
   "source": []
  },
  {
   "cell_type": "code",
   "execution_count": null,
   "metadata": {},
   "outputs": [],
   "source": []
  }
 ],
 "metadata": {
  "kernelspec": {
   "display_name": "env",
   "language": "python",
   "name": "python3"
  },
  "language_info": {
   "codemirror_mode": {
    "name": "ipython",
    "version": 3
   },
   "file_extension": ".py",
   "mimetype": "text/x-python",
   "name": "python",
   "nbconvert_exporter": "python",
   "pygments_lexer": "ipython3",
   "version": "3.11.8"
  }
 },
 "nbformat": 4,
 "nbformat_minor": 2
}
