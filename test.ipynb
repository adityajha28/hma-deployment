{
 "cells": [
  {
   "cell_type": "code",
   "execution_count": 1,
   "metadata": {},
   "outputs": [],
   "source": [
    "from dotenv import load_dotenv\n",
    "import os\n",
    "load_dotenv()\n",
    "GOOGLE_API_KEY = os.getenv(\"GOOGLE_API_KEY\")\n",
    "TAVILY_API_KEY = os.getenv(\"TAVILY_API_KEY\")"
   ]
  },
  {
   "cell_type": "code",
   "execution_count": 2,
   "metadata": {},
   "outputs": [
    {
     "name": "stderr",
     "output_type": "stream",
     "text": [
      "d:\\SOURAV\\GenAI\\HotelChatBot\\env\\Lib\\site-packages\\tqdm\\auto.py:21: TqdmWarning: IProgress not found. Please update jupyter and ipywidgets. See https://ipywidgets.readthedocs.io/en/stable/user_install.html\n",
      "  from .autonotebook import tqdm as notebook_tqdm\n"
     ]
    }
   ],
   "source": [
    "from langchain.text_splitter import RecursiveCharacterTextSplitter\n",
    "from langchain_community.document_loaders import PyPDFLoader\n",
    "from langchain_community.tools.tavily_search import TavilySearchResults\n",
    "from langchain_community.vectorstores import Chroma, FAISS\n",
    "from langchain_google_genai import GoogleGenerativeAIEmbeddings\n",
    "from langchain_google_genai import GoogleGenerativeAI\n",
    "from langchain.chains import LLMMathChain, LLMChain\n",
    "from langchain.prompts import PromptTemplate"
   ]
  },
  {
   "cell_type": "code",
   "execution_count": 3,
   "metadata": {},
   "outputs": [],
   "source": [
    "llm =  GoogleGenerativeAI(model=\"gemini-pro\", google_api_key=GOOGLE_API_KEY)\n",
    "embeddings = GoogleGenerativeAIEmbeddings(model=\"models/embedding-001\", google_api_key=GOOGLE_API_KEY)"
   ]
  },
  {
   "cell_type": "code",
   "execution_count": 4,
   "metadata": {},
   "outputs": [],
   "source": [
    "loader=PyPDFLoader(\"knowledge.pdf\")\n",
    "docs = loader.load_and_split()\n",
    "text_splitter = RecursiveCharacterTextSplitter(chunk_size=1024)\n",
    "documents = text_splitter.split_documents(docs)"
   ]
  },
  {
   "cell_type": "code",
   "execution_count": 5,
   "metadata": {},
   "outputs": [],
   "source": [
    "PERSIST_STORAGE = \"./storage\"\n",
    "chroma_db = Chroma.from_documents(documents=documents, embedding= embeddings, persist_directory=PERSIST_STORAGE)\n",
    "\n",
    "\n",
    "# faiss_db = FAISS.from_documents(documents=documents, embedding= embeddings)\n",
    "# faiss_db.save_local(\"faiss_index\")\n",
    "# faiss_db=FAISS.load_local(\"faiss_index\", embeddings=embeddings, allow_dangerous_deserialization=True)"
   ]
  },
  {
   "cell_type": "code",
   "execution_count": 6,
   "metadata": {},
   "outputs": [],
   "source": [
    "# retriever = faiss_db.as_retriever()\n",
    "retriever = chroma_db.as_retriever()"
   ]
  },
  {
   "cell_type": "code",
   "execution_count": 7,
   "metadata": {},
   "outputs": [],
   "source": [
    "from langchain.tools.retriever import create_retriever_tool\n",
    "retriever_tool = create_retriever_tool(\n",
    "    retriever=retriever,\n",
    "    name=\"hotel_search\",\n",
    "    description=\"Search for information about Hotel check-in, check out, types of rooms, price of rooms. \\\n",
    "        For any questions on the above topics, you must use this tool!\",\n",
    ")"
   ]
  },
  {
   "cell_type": "code",
   "execution_count": 11,
   "metadata": {},
   "outputs": [
    {
     "data": {
      "text/plain": [
       "'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'"
      ]
     },
     "execution_count": 11,
     "metadata": {},
     "output_type": "execute_result"
    }
   ],
   "source": [
    "# TAVILY_API_KEY"
   ]
  },
  {
   "cell_type": "code",
   "execution_count": 12,
   "metadata": {},
   "outputs": [],
   "source": [
    "# search = TavilySearchResults()"
   ]
  },
  {
   "cell_type": "code",
   "execution_count": 13,
   "metadata": {},
   "outputs": [
    {
     "data": {
      "text/plain": [
       "{'name': 'tavily_search_results_json',\n",
       " 'description': 'A search engine optimized for comprehensive, accurate, and trusted results. Useful for when you need to answer questions about current events. Input should be a search query.',\n",
       " 'args_schema': langchain_community.tools.tavily_search.tool.TavilyInput,\n",
       " 'return_direct': False,\n",
       " 'verbose': False,\n",
       " 'tags': None,\n",
       " 'metadata': None,\n",
       " 'handle_tool_error': False,\n",
       " 'handle_validation_error': False,\n",
       " 'api_wrapper': {'tavily_api_key': SecretStr('**********')},\n",
       " 'max_results': 5}"
      ]
     },
     "execution_count": 13,
     "metadata": {},
     "output_type": "execute_result"
    }
   ],
   "source": [
    "# search.dict()"
   ]
  },
  {
   "cell_type": "code",
   "execution_count": 9,
   "metadata": {},
   "outputs": [],
   "source": [
    "from langchain.agents import Tool\n",
    "problem_chain = LLMMathChain.from_llm(llm=llm)\n",
    "math_tool = Tool.from_function(name=\"Calculator\",\n",
    "                func=problem_chain.run,\n",
    "                 description=\"Useful for when you need to answer questions \\\n",
    "about math. This tool is only for math questions and nothing else for the price calculation of hotel rooms.\")"
   ]
  },
  {
   "cell_type": "code",
   "execution_count": 10,
   "metadata": {},
   "outputs": [],
   "source": [
    "tools = [retriever_tool,math_tool]"
   ]
  },
  {
   "cell_type": "markdown",
   "metadata": {},
   "source": [
    "# Agent"
   ]
  },
  {
   "cell_type": "code",
   "execution_count": 11,
   "metadata": {},
   "outputs": [],
   "source": [
    "from langchain.agents import create_react_agent, AgentExecutor\n",
    "from langchain import hub"
   ]
  },
  {
   "cell_type": "code",
   "execution_count": 12,
   "metadata": {},
   "outputs": [],
   "source": [
    "prompt = hub.pull(\"hwchase17/react\")"
   ]
  },
  {
   "cell_type": "code",
   "execution_count": 13,
   "metadata": {},
   "outputs": [
    {
     "name": "stdout",
     "output_type": "stream",
     "text": [
      "Answer the following questions as best you can. You have access to the following tools:\n",
      "\n",
      "{tools}\n",
      "\n",
      "Use the following format:\n",
      "\n",
      "Question: the input question you must answer\n",
      "Thought: you should always think about what to do\n",
      "Action: the action to take, should be one of [{tool_names}]\n",
      "Action Input: the input to the action\n",
      "Observation: the result of the action\n",
      "... (this Thought/Action/Action Input/Observation can repeat N times)\n",
      "Thought: I now know the final answer\n",
      "Final Answer: the final answer to the original input question\n",
      "\n",
      "Begin!\n",
      "\n",
      "Question: {input}\n",
      "Thought:{agent_scratchpad}\n"
     ]
    }
   ],
   "source": [
    "print(prompt.template)"
   ]
  },
  {
   "cell_type": "code",
   "execution_count": 14,
   "metadata": {},
   "outputs": [],
   "source": [
    "agent = create_react_agent(llm=llm, tools=tools, prompt=prompt)"
   ]
  },
  {
   "cell_type": "code",
   "execution_count": 15,
   "metadata": {},
   "outputs": [],
   "source": [
    "agent_executer = AgentExecutor(agent=agent, tools=tools, verbose=True)"
   ]
  },
  {
   "cell_type": "code",
   "execution_count": 16,
   "metadata": {},
   "outputs": [
    {
     "name": "stdout",
     "output_type": "stream",
     "text": [
      "\n",
      "\n",
      "\u001b[1m> Entering new AgentExecutor chain...\u001b[0m\n",
      "\u001b[32;1m\u001b[1;3mAction: hotel_search\n",
      "Action Input: Find out the types of rooms in the Hilton Hotel.\u001b[0m\u001b[36;1m\u001b[1;3mHotel Policy and Services Overview  \n",
      " \n",
      "1. Number of Rooms Available:  \n",
      "Our hotel boasts a total of 100 rooms, distributed across various categories to accommodate the diverse \n",
      "needs and preferences of our guests.  \n",
      " \n",
      "2. Check -In and Checkout Timings:  \n",
      "• Check -In Time: 2:00 PM  \n",
      "• Checkout Time: 12:00 PM  \n",
      "We understand the importance of flexibility; therefore, early check -in and late checkout requests are \n",
      "subject to availability and may incur additional charges.  \n",
      " \n",
      "3. Types of Rooms:  \n",
      "• Standard Room: Comfortable and cozy, suitable for solo travelers or couples.  \n",
      "• Deluxe Room: Spacious and elegantly furnished, ideal for families or guests seeking added \n",
      "comfort.  \n",
      "• Executive Suite: Luxurious accommodations with separate living and sleeping areas, perfect for \n",
      "business travelers or those seeking a premium experience.  \n",
      " \n",
      "4. Price of Each Type of Room:  \n",
      "• Standard Room: ₹7,000 per night  \n",
      "• Deluxe Room: ₹10,500 per night  \n",
      "• Executive Suite: ₹17,500 per night\n",
      "\n",
      "Hotel Policy and Services Overview  \n",
      " \n",
      "1. Number of Rooms Available:  \n",
      "Our hotel boasts a total of 100 rooms, distributed across various categories to accommodate the diverse \n",
      "needs and preferences of our guests.  \n",
      " \n",
      "2. Check -In and Checkout Timings:  \n",
      "• Check -In Time: 2:00 PM  \n",
      "• Checkout Time: 12:00 PM  \n",
      "We understand the importance of flexibility; therefore, early check -in and late checkout requests are \n",
      "subject to availability and may incur additional charges.  \n",
      " \n",
      "3. Types of Rooms:  \n",
      "• Standard Room: Comfortable and cozy, suitable for solo travelers or couples.  \n",
      "• Deluxe Room: Spacious and elegantly furnished, ideal for families or guests seeking added \n",
      "comfort.  \n",
      "• Executive Suite: Luxurious accommodations with separate living and sleeping areas, perfect for \n",
      "business travelers or those seeking a premium experience.  \n",
      " \n",
      "4. Price of Each Type of Room:  \n",
      "• Standard Room: ₹7,000 per night  \n",
      "• Deluxe Room: ₹10,500 per night  \n",
      "• Executive Suite: ₹17,500 per night\n",
      "\n",
      "4. Price of Each Type of Room:  \n",
      "• Standard Room: ₹7,000 per night  \n",
      "• Deluxe Room: ₹10,500 per night  \n",
      "• Executive Suite: ₹17,500 per night  \n",
      "Please note that prices are subject to change based on seasonal demand and availability.  \n",
      " \n",
      "5. Water Availability:  \n",
      "Complimentary bottled water is provided in each room upon arrival.  \n",
      "Additionally, our hotel ensures round -the-clock availability of fresh, potable water throughout the \n",
      "premises, adhering to stringent quality standards for guest satisfaction and convenience.  \n",
      " \n",
      "General Policies:  \n",
      "1. Reservation and Cancellation:  \n",
      "Reservations can be made online through our website, over the phone, or in person at the front desk.  \n",
      "Cancellation or modification of reservations must be made at least 24 hours prior to the scheduled arrival \n",
      "to avoid cancellation charges, unless otherwise stated during booking.\n",
      "\n",
      "4. Price of Each Type of Room:  \n",
      "• Standard Room: ₹7,000 per night  \n",
      "• Deluxe Room: ₹10,500 per night  \n",
      "• Executive Suite: ₹17,500 per night  \n",
      "Please note that prices are subject to change based on seasonal demand and availability.  \n",
      " \n",
      "5. Water Availability:  \n",
      "Complimentary bottled water is provided in each room upon arrival.  \n",
      "Additionally, our hotel ensures round -the-clock availability of fresh, potable water throughout the \n",
      "premises, adhering to stringent quality standards for guest satisfaction and convenience.  \n",
      " \n",
      "General Policies:  \n",
      "1. Reservation and Cancellation:  \n",
      "Reservations can be made online through our website, over the phone, or in person at the front desk.  \n",
      "Cancellation or modification of reservations must be made at least 24 hours prior to the scheduled arrival \n",
      "to avoid cancellation charges, unless otherwise stated during booking.\u001b[0m\u001b[32;1m\u001b[1;3mFinal Answer: The types of rooms in the Hilton Hotel are:\n",
      "Standard Room, Deluxe Room, Executive Suite.\u001b[0m\n",
      "\n",
      "\u001b[1m> Finished chain.\u001b[0m\n"
     ]
    },
    {
     "data": {
      "text/plain": [
       "{'input': 'What are the types of rooms in the hotel?',\n",
       " 'output': 'The types of rooms in the Hilton Hotel are:\\nStandard Room, Deluxe Room, Executive Suite.'}"
      ]
     },
     "execution_count": 16,
     "metadata": {},
     "output_type": "execute_result"
    }
   ],
   "source": [
    "agent_executer.invoke({\"input\":\"What are the types of rooms in the hotel?\"})"
   ]
  },
  {
   "cell_type": "code",
   "execution_count": 17,
   "metadata": {},
   "outputs": [
    {
     "name": "stdout",
     "output_type": "stream",
     "text": [
      "\n",
      "\n",
      "\u001b[1m> Entering new AgentExecutor chain...\u001b[0m\n",
      "\u001b[32;1m\u001b[1;3mAction: hotel_search\n",
      "Action Input: what is the price of an Executive Suite?\u001b[0m\u001b[36;1m\u001b[1;3m4. Price of Each Type of Room:  \n",
      "• Standard Room: ₹7,000 per night  \n",
      "• Deluxe Room: ₹10,500 per night  \n",
      "• Executive Suite: ₹17,500 per night  \n",
      "Please note that prices are subject to change based on seasonal demand and availability.  \n",
      " \n",
      "5. Water Availability:  \n",
      "Complimentary bottled water is provided in each room upon arrival.  \n",
      "Additionally, our hotel ensures round -the-clock availability of fresh, potable water throughout the \n",
      "premises, adhering to stringent quality standards for guest satisfaction and convenience.  \n",
      " \n",
      "General Policies:  \n",
      "1. Reservation and Cancellation:  \n",
      "Reservations can be made online through our website, over the phone, or in person at the front desk.  \n",
      "Cancellation or modification of reservations must be made at least 24 hours prior to the scheduled arrival \n",
      "to avoid cancellation charges, unless otherwise stated during booking.\n",
      "\n",
      "4. Price of Each Type of Room:  \n",
      "• Standard Room: ₹7,000 per night  \n",
      "• Deluxe Room: ₹10,500 per night  \n",
      "• Executive Suite: ₹17,500 per night  \n",
      "Please note that prices are subject to change based on seasonal demand and availability.  \n",
      " \n",
      "5. Water Availability:  \n",
      "Complimentary bottled water is provided in each room upon arrival.  \n",
      "Additionally, our hotel ensures round -the-clock availability of fresh, potable water throughout the \n",
      "premises, adhering to stringent quality standards for guest satisfaction and convenience.  \n",
      " \n",
      "General Policies:  \n",
      "1. Reservation and Cancellation:  \n",
      "Reservations can be made online through our website, over the phone, or in person at the front desk.  \n",
      "Cancellation or modification of reservations must be made at least 24 hours prior to the scheduled arrival \n",
      "to avoid cancellation charges, unless otherwise stated during booking.\n",
      "\n",
      "Hotel Policy and Services Overview  \n",
      " \n",
      "1. Number of Rooms Available:  \n",
      "Our hotel boasts a total of 100 rooms, distributed across various categories to accommodate the diverse \n",
      "needs and preferences of our guests.  \n",
      " \n",
      "2. Check -In and Checkout Timings:  \n",
      "• Check -In Time: 2:00 PM  \n",
      "• Checkout Time: 12:00 PM  \n",
      "We understand the importance of flexibility; therefore, early check -in and late checkout requests are \n",
      "subject to availability and may incur additional charges.  \n",
      " \n",
      "3. Types of Rooms:  \n",
      "• Standard Room: Comfortable and cozy, suitable for solo travelers or couples.  \n",
      "• Deluxe Room: Spacious and elegantly furnished, ideal for families or guests seeking added \n",
      "comfort.  \n",
      "• Executive Suite: Luxurious accommodations with separate living and sleeping areas, perfect for \n",
      "business travelers or those seeking a premium experience.  \n",
      " \n",
      "4. Price of Each Type of Room:  \n",
      "• Standard Room: ₹7,000 per night  \n",
      "• Deluxe Room: ₹10,500 per night  \n",
      "• Executive Suite: ₹17,500 per night\n",
      "\n",
      "Hotel Policy and Services Overview  \n",
      " \n",
      "1. Number of Rooms Available:  \n",
      "Our hotel boasts a total of 100 rooms, distributed across various categories to accommodate the diverse \n",
      "needs and preferences of our guests.  \n",
      " \n",
      "2. Check -In and Checkout Timings:  \n",
      "• Check -In Time: 2:00 PM  \n",
      "• Checkout Time: 12:00 PM  \n",
      "We understand the importance of flexibility; therefore, early check -in and late checkout requests are \n",
      "subject to availability and may incur additional charges.  \n",
      " \n",
      "3. Types of Rooms:  \n",
      "• Standard Room: Comfortable and cozy, suitable for solo travelers or couples.  \n",
      "• Deluxe Room: Spacious and elegantly furnished, ideal for families or guests seeking added \n",
      "comfort.  \n",
      "• Executive Suite: Luxurious accommodations with separate living and sleeping areas, perfect for \n",
      "business travelers or those seeking a premium experience.  \n",
      " \n",
      "4. Price of Each Type of Room:  \n",
      "• Standard Room: ₹7,000 per night  \n",
      "• Deluxe Room: ₹10,500 per night  \n",
      "• Executive Suite: ₹17,500 per night\u001b[0m\u001b[32;1m\u001b[1;3mAction: Calculator\n",
      "Action Input: 17500 * 3\u001b[0m\u001b[33;1m\u001b[1;3mAnswer: 52500\u001b[0m\u001b[32;1m\u001b[1;3mFinal Answer: The price for booking 3 Executive suites will be Rs. 52,500.\u001b[0m\n",
      "\n",
      "\u001b[1m> Finished chain.\u001b[0m\n"
     ]
    },
    {
     "data": {
      "text/plain": [
       "{'input': 'What will be the price for booking 3 Executive suites?',\n",
       " 'output': 'The price for booking 3 Executive suites will be Rs. 52,500.'}"
      ]
     },
     "execution_count": 17,
     "metadata": {},
     "output_type": "execute_result"
    }
   ],
   "source": [
    "agent_executer.invoke({\"input\":\"What will be the price for booking 3 Executive suites?\"})"
   ]
  },
  {
   "cell_type": "code",
   "execution_count": null,
   "metadata": {},
   "outputs": [],
   "source": []
  }
 ],
 "metadata": {
  "kernelspec": {
   "display_name": "env",
   "language": "python",
   "name": "python3"
  },
  "language_info": {
   "codemirror_mode": {
    "name": "ipython",
    "version": 3
   },
   "file_extension": ".py",
   "mimetype": "text/x-python",
   "name": "python",
   "nbconvert_exporter": "python",
   "pygments_lexer": "ipython3",
   "version": "3.11.8"
  }
 },
 "nbformat": 4,
 "nbformat_minor": 2
}
