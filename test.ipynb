{
 "cells": [
  {
   "cell_type": "code",
   "execution_count": 1,
   "metadata": {},
   "outputs": [],
   "source": [
    "from dotenv import load_dotenv\n",
    "import os\n",
    "load_dotenv()\n",
    "GOOGLE_API_KEY = os.getenv(\"GOOGLE_API_KEY\")\n",
    "TRAVILY_API_KEY = os.getenv(\"TRAVILY_API_KEY\")"
   ]
  },
  {
   "cell_type": "code",
   "execution_count": 11,
   "metadata": {},
   "outputs": [],
   "source": [
    "from langchain.text_splitter import RecursiveCharacterTextSplitter\n",
    "from langchain_community.document_loaders import PyPDFLoader\n",
    "from langchain_community.tools.tavily_search import TavilySearchResults\n",
    "from langchain_community.vectorstores import Chroma, FAISS\n",
    "from langchain_google_genai import GoogleGenerativeAIEmbeddings\n",
    "from langchain_google_genai import GoogleGenerativeAI"
   ]
  },
  {
   "cell_type": "code",
   "execution_count": 3,
   "metadata": {},
   "outputs": [],
   "source": [
    "llm =  GoogleGenerativeAI(model=\"gemini-pro\", google_api_key=GOOGLE_API_KEY)\n",
    "embeddings = GoogleGenerativeAIEmbeddings(model=\"models/embedding-001\", google_api_key=GOOGLE_API_KEY)"
   ]
  },
  {
   "cell_type": "code",
   "execution_count": 4,
   "metadata": {},
   "outputs": [],
   "source": [
    "loader=PyPDFLoader(\"knowledge.pdf\")\n",
    "docs = loader.load_and_split()\n",
    "text_splitter = RecursiveCharacterTextSplitter(chunk_size=1024)\n",
    "documents = text_splitter.split_documents(docs)"
   ]
  },
  {
   "cell_type": "code",
   "execution_count": 13,
   "metadata": {},
   "outputs": [],
   "source": [
    "PERSIST_STORAGE = \"./storage\""
   ]
  },
  {
   "cell_type": "code",
   "execution_count": 14,
   "metadata": {},
   "outputs": [],
   "source": [
    "chroma_db = Chroma.from_documents(documents=documents, embedding= embeddings, persist_directory=PERSIST_STORAGE)\n",
    "faiss_db = FAISS.from_documents(documents=documents, embedding= embeddings)"
   ]
  },
  {
   "cell_type": "code",
   "execution_count": 15,
   "metadata": {},
   "outputs": [],
   "source": [
    "retriever = faiss_db.as_retriever()\n",
    "ret = chroma_db.as_retriever()\n",
    "result = retriever.invoke(\"Can I extend my stay?\")\n",
    "res = retriever.invoke(\"Can I extend my stay?\")"
   ]
  },
  {
   "cell_type": "code",
   "execution_count": 16,
   "metadata": {},
   "outputs": [
    {
     "name": "stdout",
     "output_type": "stream",
     "text": [
      "handl e the rest, includin g any outstandin g payment s or receipt s you may need . \n",
      "Q: Can I exten d my stay? \n",
      "A: Yes, you can exten d your stay base d on availability . Let me know your desire d extensio n \n",
      "dates , and I'll chec k our availabilit y and assis t you with the extensio n process . \n",
      "Q: How can I provid e feedbac k abou t my stay? \n",
      "A: We value your feedback ! You can provid e feedbac k throug h our website , email , or directl y \n",
      "throug h this chat . We appreciat e any suggestion s or comment s you have to help us improv e \n",
      "our services .\n"
     ]
    }
   ],
   "source": [
    "print(result[0].page_content)"
   ]
  },
  {
   "cell_type": "code",
   "execution_count": 17,
   "metadata": {},
   "outputs": [
    {
     "name": "stdout",
     "output_type": "stream",
     "text": [
      "handl e the rest, includin g any outstandin g payment s or receipt s you may need . \n",
      "Q: Can I exten d my stay? \n",
      "A: Yes, you can exten d your stay base d on availability . Let me know your desire d extensio n \n",
      "dates , and I'll chec k our availabilit y and assis t you with the extensio n process . \n",
      "Q: How can I provid e feedbac k abou t my stay? \n",
      "A: We value your feedback ! You can provid e feedbac k throug h our website , email , or directl y \n",
      "throug h this chat . We appreciat e any suggestion s or comment s you have to help us improv e \n",
      "our services .\n"
     ]
    }
   ],
   "source": [
    "print(res[0].page_content)"
   ]
  },
  {
   "cell_type": "code",
   "execution_count": null,
   "metadata": {},
   "outputs": [],
   "source": []
  }
 ],
 "metadata": {
  "kernelspec": {
   "display_name": "env",
   "language": "python",
   "name": "python3"
  },
  "language_info": {
   "codemirror_mode": {
    "name": "ipython",
    "version": 3
   },
   "file_extension": ".py",
   "mimetype": "text/x-python",
   "name": "python",
   "nbconvert_exporter": "python",
   "pygments_lexer": "ipython3",
   "version": "3.11.8"
  }
 },
 "nbformat": 4,
 "nbformat_minor": 2
}
